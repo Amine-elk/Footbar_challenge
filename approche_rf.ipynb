{
 "cells": [
  {
   "cell_type": "code",
   "execution_count": null,
   "metadata": {},
   "outputs": [],
   "source": [
    "import json\n",
    "import pandas as pd\n",
    "import numpy as np"
   ]
  },
  {
   "cell_type": "code",
   "execution_count": null,
   "metadata": {},
   "outputs": [],
   "source": [
    "with open('data\\match_1.json', 'r') as json_file:\n",
    "    data_1 = json.load(json_file)\n",
    "\n",
    "df = pd.DataFrame(data_1)\n",
    "# with open('data\\match_2.json', 'r') as json_file:\n",
    "#     data_2 = json.load(json_file)\n",
    "# df = pd.concat([pd.DataFrame(data_1), pd.DataFrame(data_2)])"
   ]
  },
  {
   "cell_type": "code",
   "execution_count": null,
   "metadata": {},
   "outputs": [
    {
     "data": {
      "text/html": [
       "<div>\n",
       "<style scoped>\n",
       "    .dataframe tbody tr th:only-of-type {\n",
       "        vertical-align: middle;\n",
       "    }\n",
       "\n",
       "    .dataframe tbody tr th {\n",
       "        vertical-align: top;\n",
       "    }\n",
       "\n",
       "    .dataframe thead th {\n",
       "        text-align: right;\n",
       "    }\n",
       "</style>\n",
       "<table border=\"1\" class=\"dataframe\">\n",
       "  <thead>\n",
       "    <tr style=\"text-align: right;\">\n",
       "      <th></th>\n",
       "      <th>label</th>\n",
       "      <th>norm</th>\n",
       "      <th>avg</th>\n",
       "      <th>std</th>\n",
       "      <th>max</th>\n",
       "      <th>min</th>\n",
       "      <th>sum</th>\n",
       "      <th>quantile_75_25</th>\n",
       "      <th>quantile_0.1</th>\n",
       "      <th>quantile_0.2</th>\n",
       "      <th>quantile_0.3</th>\n",
       "      <th>quantile_0.4</th>\n",
       "      <th>quantile_0.5</th>\n",
       "      <th>quantile_0.6</th>\n",
       "      <th>quantile_0.7</th>\n",
       "      <th>quantile_0.8</th>\n",
       "      <th>quantile_0.9</th>\n",
       "    </tr>\n",
       "  </thead>\n",
       "  <tbody>\n",
       "    <tr>\n",
       "      <th>0</th>\n",
       "      <td>walk</td>\n",
       "      <td>[23.177037336396975, 23.36152528524938, 21.535...</td>\n",
       "      <td>24.166958</td>\n",
       "      <td>5.965416</td>\n",
       "      <td>42.738486</td>\n",
       "      <td>15.392703</td>\n",
       "      <td>1740.020960</td>\n",
       "      <td>5.764119</td>\n",
       "      <td>19.013918</td>\n",
       "      <td>20.085049</td>\n",
       "      <td>20.660135</td>\n",
       "      <td>21.480885</td>\n",
       "      <td>22.417711</td>\n",
       "      <td>23.287730</td>\n",
       "      <td>24.994645</td>\n",
       "      <td>27.386632</td>\n",
       "      <td>34.023057</td>\n",
       "    </tr>\n",
       "    <tr>\n",
       "      <th>1</th>\n",
       "      <td>walk</td>\n",
       "      <td>[20.998214383911275, 19.182798059840767, 18.27...</td>\n",
       "      <td>26.026276</td>\n",
       "      <td>8.479134</td>\n",
       "      <td>53.767061</td>\n",
       "      <td>15.520896</td>\n",
       "      <td>1405.418925</td>\n",
       "      <td>10.116888</td>\n",
       "      <td>18.296223</td>\n",
       "      <td>19.440774</td>\n",
       "      <td>20.588332</td>\n",
       "      <td>21.185515</td>\n",
       "      <td>22.864346</td>\n",
       "      <td>25.685687</td>\n",
       "      <td>27.986335</td>\n",
       "      <td>34.620415</td>\n",
       "      <td>37.236011</td>\n",
       "    </tr>\n",
       "    <tr>\n",
       "      <th>2</th>\n",
       "      <td>walk</td>\n",
       "      <td>[21.95259682019565, 20.62720484424047, 22.5554...</td>\n",
       "      <td>23.998177</td>\n",
       "      <td>6.328823</td>\n",
       "      <td>42.105998</td>\n",
       "      <td>14.484489</td>\n",
       "      <td>1631.876005</td>\n",
       "      <td>6.713424</td>\n",
       "      <td>17.783373</td>\n",
       "      <td>19.250750</td>\n",
       "      <td>20.043307</td>\n",
       "      <td>20.895036</td>\n",
       "      <td>21.584619</td>\n",
       "      <td>22.608411</td>\n",
       "      <td>25.074578</td>\n",
       "      <td>30.216203</td>\n",
       "      <td>33.563185</td>\n",
       "    </tr>\n",
       "    <tr>\n",
       "      <th>3</th>\n",
       "      <td>walk</td>\n",
       "      <td>[19.39209748358647, 19.30460665293087, 18.9787...</td>\n",
       "      <td>22.596573</td>\n",
       "      <td>5.545197</td>\n",
       "      <td>47.934160</td>\n",
       "      <td>14.867721</td>\n",
       "      <td>1694.742968</td>\n",
       "      <td>4.658217</td>\n",
       "      <td>17.818995</td>\n",
       "      <td>19.241442</td>\n",
       "      <td>19.836238</td>\n",
       "      <td>20.555982</td>\n",
       "      <td>20.998214</td>\n",
       "      <td>21.666405</td>\n",
       "      <td>22.324970</td>\n",
       "      <td>24.989932</td>\n",
       "      <td>29.591872</td>\n",
       "    </tr>\n",
       "    <tr>\n",
       "      <th>4</th>\n",
       "      <td>rest</td>\n",
       "      <td>[22.069263037713093, 19.672270483203395, 19.88...</td>\n",
       "      <td>20.378778</td>\n",
       "      <td>0.739506</td>\n",
       "      <td>22.069263</td>\n",
       "      <td>17.789805</td>\n",
       "      <td>3688.558854</td>\n",
       "      <td>0.982641</td>\n",
       "      <td>19.387547</td>\n",
       "      <td>19.882150</td>\n",
       "      <td>19.995164</td>\n",
       "      <td>20.202320</td>\n",
       "      <td>20.509409</td>\n",
       "      <td>20.546241</td>\n",
       "      <td>20.846961</td>\n",
       "      <td>21.092874</td>\n",
       "      <td>21.206229</td>\n",
       "    </tr>\n",
       "  </tbody>\n",
       "</table>\n",
       "</div>"
      ],
      "text/plain": [
       "  label                                               norm        avg  \\\n",
       "0  walk  [23.177037336396975, 23.36152528524938, 21.535...  24.166958   \n",
       "1  walk  [20.998214383911275, 19.182798059840767, 18.27...  26.026276   \n",
       "2  walk  [21.95259682019565, 20.62720484424047, 22.5554...  23.998177   \n",
       "3  walk  [19.39209748358647, 19.30460665293087, 18.9787...  22.596573   \n",
       "4  rest  [22.069263037713093, 19.672270483203395, 19.88...  20.378778   \n",
       "\n",
       "        std        max        min          sum  quantile_75_25  quantile_0.1  \\\n",
       "0  5.965416  42.738486  15.392703  1740.020960        5.764119     19.013918   \n",
       "1  8.479134  53.767061  15.520896  1405.418925       10.116888     18.296223   \n",
       "2  6.328823  42.105998  14.484489  1631.876005        6.713424     17.783373   \n",
       "3  5.545197  47.934160  14.867721  1694.742968        4.658217     17.818995   \n",
       "4  0.739506  22.069263  17.789805  3688.558854        0.982641     19.387547   \n",
       "\n",
       "   quantile_0.2  quantile_0.3  quantile_0.4  quantile_0.5  quantile_0.6  \\\n",
       "0     20.085049     20.660135     21.480885     22.417711     23.287730   \n",
       "1     19.440774     20.588332     21.185515     22.864346     25.685687   \n",
       "2     19.250750     20.043307     20.895036     21.584619     22.608411   \n",
       "3     19.241442     19.836238     20.555982     20.998214     21.666405   \n",
       "4     19.882150     19.995164     20.202320     20.509409     20.546241   \n",
       "\n",
       "   quantile_0.7  quantile_0.8  quantile_0.9  \n",
       "0     24.994645     27.386632     34.023057  \n",
       "1     27.986335     34.620415     37.236011  \n",
       "2     25.074578     30.216203     33.563185  \n",
       "3     22.324970     24.989932     29.591872  \n",
       "4     20.846961     21.092874     21.206229  "
      ]
     },
     "metadata": {},
     "output_type": "display_data"
    }
   ],
   "source": [
    "df.head()"
   ]
  },
  {
   "cell_type": "code",
   "execution_count": null,
   "metadata": {},
   "outputs": [],
   "source": [
    "df['avg'] = df['norm'].apply(lambda x: np.mean(x))\n",
    "df['std'] = df['norm'].apply(lambda x: np.std(x))\n",
    "df['max'] = df['norm'].apply(lambda x: np.max(x))\n",
    "df['min'] = df['norm'].apply(lambda x: np.min(x))\n",
    "df['sum'] = df['norm'].apply(lambda x: np.sum(x))\n",
    "df['quantile_75_25'] = df['norm'].apply(lambda x: np.quantile(x, q=0.75) - np.quantile(x, q=0.25))\n",
    "\n",
    "\n",
    "for q in [0.1, 0.2, 0.3, 0.4, 0.5, 0.6, 0.7, 0.8, 0.9]:\n",
    "    df[f'quantile_{q}'] = df['norm'].apply(lambda x: np.quantile(x, q=q))"
   ]
  },
  {
   "cell_type": "code",
   "execution_count": null,
   "metadata": {},
   "outputs": [],
   "source": [
    "train = df[:int(0.8 * df.shape[0])].reset_index(drop=True)\n",
    "test = df[int(0.8 * df.shape[0]):].reset_index(drop=True)"
   ]
  },
  {
   "cell_type": "code",
   "execution_count": null,
   "metadata": {},
   "outputs": [],
   "source": [
    "X_train, y_train = train.drop(['label', 'norm'], axis=1), train['label']\n",
    "X_test, y_test = test.drop(['label', 'norm'], axis=1), test['label']"
   ]
  },
  {
   "cell_type": "code",
   "execution_count": null,
   "metadata": {},
   "outputs": [],
   "source": [
    "from sklearn.ensemble import RandomForestClassifier\n",
    "from sklearn.metrics import balanced_accuracy_score"
   ]
  },
  {
   "cell_type": "code",
   "execution_count": null,
   "metadata": {},
   "outputs": [],
   "source": [
    "rf = RandomForestClassifier(bootstrap=True, ccp_alpha=0.0, class_weight=None,\n",
    "                       criterion='gini', max_depth=None, max_features='sqrt',\n",
    "                       max_leaf_nodes=None, max_samples=None,\n",
    "                       min_impurity_decrease=0.0, min_samples_leaf=1,\n",
    "                       min_samples_split=2, min_weight_fraction_leaf=0.0,\n",
    "                       n_estimators=100, n_jobs=-1, oob_score=False,\n",
    "                       random_state=123, verbose=0, warm_start=False)"
   ]
  },
  {
   "cell_type": "code",
   "execution_count": null,
   "metadata": {},
   "outputs": [
    {
     "data": {
      "text/html": [
       "<style>#sk-container-id-21 {color: black;background-color: white;}#sk-container-id-21 pre{padding: 0;}#sk-container-id-21 div.sk-toggleable {background-color: white;}#sk-container-id-21 label.sk-toggleable__label {cursor: pointer;display: block;width: 100%;margin-bottom: 0;padding: 0.3em;box-sizing: border-box;text-align: center;}#sk-container-id-21 label.sk-toggleable__label-arrow:before {content: \"▸\";float: left;margin-right: 0.25em;color: #696969;}#sk-container-id-21 label.sk-toggleable__label-arrow:hover:before {color: black;}#sk-container-id-21 div.sk-estimator:hover label.sk-toggleable__label-arrow:before {color: black;}#sk-container-id-21 div.sk-toggleable__content {max-height: 0;max-width: 0;overflow: hidden;text-align: left;background-color: #f0f8ff;}#sk-container-id-21 div.sk-toggleable__content pre {margin: 0.2em;color: black;border-radius: 0.25em;background-color: #f0f8ff;}#sk-container-id-21 input.sk-toggleable__control:checked~div.sk-toggleable__content {max-height: 200px;max-width: 100%;overflow: auto;}#sk-container-id-21 input.sk-toggleable__control:checked~label.sk-toggleable__label-arrow:before {content: \"▾\";}#sk-container-id-21 div.sk-estimator input.sk-toggleable__control:checked~label.sk-toggleable__label {background-color: #d4ebff;}#sk-container-id-21 div.sk-label input.sk-toggleable__control:checked~label.sk-toggleable__label {background-color: #d4ebff;}#sk-container-id-21 input.sk-hidden--visually {border: 0;clip: rect(1px 1px 1px 1px);clip: rect(1px, 1px, 1px, 1px);height: 1px;margin: -1px;overflow: hidden;padding: 0;position: absolute;width: 1px;}#sk-container-id-21 div.sk-estimator {font-family: monospace;background-color: #f0f8ff;border: 1px dotted black;border-radius: 0.25em;box-sizing: border-box;margin-bottom: 0.5em;}#sk-container-id-21 div.sk-estimator:hover {background-color: #d4ebff;}#sk-container-id-21 div.sk-parallel-item::after {content: \"\";width: 100%;border-bottom: 1px solid gray;flex-grow: 1;}#sk-container-id-21 div.sk-label:hover label.sk-toggleable__label {background-color: #d4ebff;}#sk-container-id-21 div.sk-serial::before {content: \"\";position: absolute;border-left: 1px solid gray;box-sizing: border-box;top: 0;bottom: 0;left: 50%;z-index: 0;}#sk-container-id-21 div.sk-serial {display: flex;flex-direction: column;align-items: center;background-color: white;padding-right: 0.2em;padding-left: 0.2em;position: relative;}#sk-container-id-21 div.sk-item {position: relative;z-index: 1;}#sk-container-id-21 div.sk-parallel {display: flex;align-items: stretch;justify-content: center;background-color: white;position: relative;}#sk-container-id-21 div.sk-item::before, #sk-container-id-21 div.sk-parallel-item::before {content: \"\";position: absolute;border-left: 1px solid gray;box-sizing: border-box;top: 0;bottom: 0;left: 50%;z-index: -1;}#sk-container-id-21 div.sk-parallel-item {display: flex;flex-direction: column;z-index: 1;position: relative;background-color: white;}#sk-container-id-21 div.sk-parallel-item:first-child::after {align-self: flex-end;width: 50%;}#sk-container-id-21 div.sk-parallel-item:last-child::after {align-self: flex-start;width: 50%;}#sk-container-id-21 div.sk-parallel-item:only-child::after {width: 0;}#sk-container-id-21 div.sk-dashed-wrapped {border: 1px dashed gray;margin: 0 0.4em 0.5em 0.4em;box-sizing: border-box;padding-bottom: 0.4em;background-color: white;}#sk-container-id-21 div.sk-label label {font-family: monospace;font-weight: bold;display: inline-block;line-height: 1.2em;}#sk-container-id-21 div.sk-label-container {text-align: center;}#sk-container-id-21 div.sk-container {/* jupyter's `normalize.less` sets `[hidden] { display: none; }` but bootstrap.min.css set `[hidden] { display: none !important; }` so we also need the `!important` here to be able to override the default hidden behavior on the sphinx rendered scikit-learn.org. See: https://github.com/scikit-learn/scikit-learn/issues/21755 */display: inline-block !important;position: relative;}#sk-container-id-21 div.sk-text-repr-fallback {display: none;}</style><div id=\"sk-container-id-21\" class=\"sk-top-container\"><div class=\"sk-text-repr-fallback\"><pre>RandomForestClassifier(n_jobs=-1, random_state=123)</pre><b>In a Jupyter environment, please rerun this cell to show the HTML representation or trust the notebook. <br />On GitHub, the HTML representation is unable to render, please try loading this page with nbviewer.org.</b></div><div class=\"sk-container\" hidden><div class=\"sk-item\"><div class=\"sk-estimator sk-toggleable\"><input class=\"sk-toggleable__control sk-hidden--visually\" id=\"sk-estimator-id-21\" type=\"checkbox\" checked><label for=\"sk-estimator-id-21\" class=\"sk-toggleable__label sk-toggleable__label-arrow\">RandomForestClassifier</label><div class=\"sk-toggleable__content\"><pre>RandomForestClassifier(n_jobs=-1, random_state=123)</pre></div></div></div></div></div>"
      ],
      "text/plain": [
       "RandomForestClassifier(n_jobs=-1, random_state=123)"
      ]
     },
     "metadata": {},
     "output_type": "display_data"
    }
   ],
   "source": [
    "rf.fit(X_train, y_train)"
   ]
  },
  {
   "cell_type": "code",
   "execution_count": null,
   "metadata": {},
   "outputs": [],
   "source": [
    "y_pred = rf.predict(X_test)"
   ]
  },
  {
   "cell_type": "code",
   "execution_count": null,
   "metadata": {},
   "outputs": [
    {
     "data": {
      "text/plain": [
       "0.35802993735236727"
      ]
     },
     "metadata": {},
     "output_type": "display_data"
    }
   ],
   "source": [
    "balanced_accuracy_score(y_test, y_pred)"
   ]
  }
 ],
 "metadata": {
  "language_info": {
   "name": "python"
  },
  "orig_nbformat": 4
 },
 "nbformat": 4,
 "nbformat_minor": 2
}
